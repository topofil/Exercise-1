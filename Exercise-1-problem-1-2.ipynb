{
  "cells": [
    {
      "cell_type": "markdown",
      "metadata": {
        "deletable": false,
        "editable": false,
        "tags": []
      },
      "source": [
        "## Problem 1: Creating basic geometries (*5 points*)\n",
        "\n",
        "In this problem, you will create custom functions that create geometry objects. \n",
        "We start with a very simple function, and proceed to creating functions that can handle invalid input values.    "
      ]
    },
    {
      "cell_type": "markdown",
      "metadata": {
        "deletable": false,
        "editable": false,
        "jp-MarkdownHeadingCollapsed": true,
        "tags": []
      },
      "source": [
        "\n",
        "----\n",
        "\n",
        "#### (1a)\n",
        "\n",
        "Create a function called **`create_point_geometry()`** that accepts two parameters, `x_coord` and `y_coord`. \n",
        "The function should return a `shapely.geometry.Point` geometry object. "
      ]
    },
    {
      "cell_type": "code",
      "execution_count": 30,
      "metadata": {
        "tags": []
      },
      "outputs": [],
      "source": [
        "import geopandas\n",
        "import shapely\n",
        "\n",
        "def create_point_geometry(x_coord,y_coord):\n",
        "    \"\"\"creates a point geometry\"\"\"\n",
        "    return shapely.geometry.Point(x_coord,y_coord)\n",
        "\n"
      ]
    },
    {
      "cell_type": "markdown",
      "metadata": {
        "deletable": false,
        "editable": false
      },
      "source": [
        "Test your function by running the following code cell:"
      ]
    },
    {
      "cell_type": "code",
      "execution_count": 2,
      "metadata": {
        "deletable": false,
        "editable": false
      },
      "outputs": [
        {
          "name": "stdout",
          "output_type": "stream",
          "text": [
            "POINT (0 1.1)\n",
            "Point\n"
          ]
        }
      ],
      "source": [
        "# NON-EDITABLE CODE CELL FOR TESTING YOUR SOLUTION\n",
        "point1 = create_point_geometry(0.0, 1.1)\n",
        "print(point1)\n",
        "print(point1.geom_type)"
      ]
    },
    {
      "cell_type": "markdown",
      "metadata": {
        "deletable": false,
        "editable": false,
        "jp-MarkdownHeadingCollapsed": true,
        "tags": []
      },
      "source": [
        "\n",
        "----\n",
        "\n",
        "#### (1b)\n",
        "\n",
        "Create a function called **`create_line_geometry()`** that takes a list of `shapely.geometry.Point`s as\n",
        "an argument, and returns a `shapely.geometry.LineString` object of those input points.\n",
        "\n",
        "In addition, you should validate the function input using `assert` statements (see \n",
        "[lesson 6 of the Geo-Python course](https://geo-python-site.readthedocs.io/en/latest/notebooks/L6/gcp-5-assertions.html)\n",
        "and the [hints for this exercise](https://autogis-site.readthedocs.io/en/latest/lessons/L1/exercise-1.html#hints)):\n",
        "\n",
        "  - Inside the function, first check that the input is a **list**. If something else than a list is\n",
        "    passed, raise the following error: \"Input should be a list\".\n",
        "  - Use `assert` to check that the input list contains **at least** two values. Otherwise, raise the error: \"At\n",
        "    minimum two points are required for a LineString\"\n",
        "  - *(optional)* Use `assert` to check that all values in the input list are `shapely.geometry.Point`s.\n",
        "    Otherwise, raise the error: \"All list values must be of type shapely.geometry.Point\"\n",
        "  "
      ]
    },
    {
      "cell_type": "code",
      "execution_count": 31,
      "metadata": {
        "tags": []
      },
      "outputs": [],
      "source": [
        "def create_line_geometry(points):\n",
        "    \"\"\"creates a line geometry\"\"\"\n",
        "    if not type(points) is list:\n",
        "        raise Exception(\"Input should be a list\")\n",
        "    assert len(points)>=2, \"At minimum two points are required for a LineString\"\n",
        "    assert all(isinstance(x,shapely.geometry.Point) for x in points), \"All values must be of type shapely geometry points\"\n",
        "    return shapely.geometry.LineString(points)\n"
      ]
    },
    {
      "cell_type": "markdown",
      "metadata": {
        "deletable": false,
        "editable": false
      },
      "source": [
        "Demonstrate how to use your function:\n",
        "Create a line object with two points, `Point(45.2, 22.34)` and `Point(100.22, -3.20)`, and store the result in a variable called `line1`."
      ]
    },
    {
      "cell_type": "code",
      "execution_count": 4,
      "metadata": {},
      "outputs": [],
      "source": [
        "point1=create_point_geometry(45.2, 22.34)\n",
        "point2=create_point_geometry(100.22, -3.20)\n",
        "\n",
        "line1=create_line_geometry([point1,point2])\n"
      ]
    },
    {
      "cell_type": "markdown",
      "metadata": {
        "deletable": false,
        "editable": false
      },
      "source": [
        "Run this code cell to check your solution:"
      ]
    },
    {
      "cell_type": "code",
      "execution_count": 5,
      "metadata": {
        "deletable": false,
        "editable": false
      },
      "outputs": [
        {
          "name": "stdout",
          "output_type": "stream",
          "text": [
            "LINESTRING (45.2 22.34, 100.22 -3.2)\n",
            "LineString\n"
          ]
        }
      ],
      "source": [
        "# NON-EDITABLE CODE CELL FOR TESTING YOUR SOLUTION\n",
        "print(line1)\n",
        "print(line1.geom_type)"
      ]
    },
    {
      "cell_type": "markdown",
      "metadata": {
        "deletable": false,
        "editable": false
      },
      "source": [
        "Check if your function checks the input correctly by running this code cell:"
      ]
    },
    {
      "cell_type": "code",
      "execution_count": 6,
      "metadata": {
        "deletable": false,
        "editable": false
      },
      "outputs": [
        {
          "ename": "Exception",
          "evalue": "Input should be a list",
          "output_type": "error",
          "traceback": [
            "\u001b[1;31m---------------------------------------------------------------------------\u001b[0m",
            "\u001b[1;31mException\u001b[0m                                 Traceback (most recent call last)",
            "\u001b[1;32mc:\\Users\\Georgios\\Documents\\GitHub\\AutoGIS2021\\Exercise-1\\Exercise-1-problem-1-2.ipynb Cell 13\u001b[0m in \u001b[0;36m8\n\u001b[0;32m      <a href='vscode-notebook-cell:/c%3A/Users/Georgios/Documents/GitHub/AutoGIS2021/Exercise-1/Exercise-1-problem-1-2.ipynb#X15sZmlsZQ%3D%3D?line=5'>6</a>\u001b[0m     \u001b[39mprint\u001b[39m(\u001b[39mf\u001b[39m\u001b[39m\"\u001b[39m\u001b[39mThe function (correctly) detected an error. The error message was ‘\u001b[39m\u001b[39m{\u001b[39;00mexception\u001b[39m.\u001b[39margs[\u001b[39m0\u001b[39m]\u001b[39m}\u001b[39;00m\u001b[39m’\u001b[39m\u001b[39m\"\u001b[39m)\n\u001b[0;32m      <a href='vscode-notebook-cell:/c%3A/Users/Georgios/Documents/GitHub/AutoGIS2021/Exercise-1/Exercise-1-problem-1-2.ipynb#X15sZmlsZQ%3D%3D?line=6'>7</a>\u001b[0m \u001b[39mexcept\u001b[39;00m \u001b[39mException\u001b[39;00m \u001b[39mas\u001b[39;00m exception:\n\u001b[1;32m----> <a href='vscode-notebook-cell:/c%3A/Users/Georgios/Documents/GitHub/AutoGIS2021/Exercise-1/Exercise-1-problem-1-2.ipynb#X15sZmlsZQ%3D%3D?line=7'>8</a>\u001b[0m     \u001b[39mraise\u001b[39;00m exception\n",
            "\u001b[1;32mc:\\Users\\Georgios\\Documents\\GitHub\\AutoGIS2021\\Exercise-1\\Exercise-1-problem-1-2.ipynb Cell 13\u001b[0m in \u001b[0;36m4\n\u001b[0;32m      <a href='vscode-notebook-cell:/c%3A/Users/Georgios/Documents/GitHub/AutoGIS2021/Exercise-1/Exercise-1-problem-1-2.ipynb#X15sZmlsZQ%3D%3D?line=0'>1</a>\u001b[0m \u001b[39m# NON-EDITABLE CODE CELL FOR TESTING YOUR SOLUTION\u001b[39;00m\n\u001b[0;32m      <a href='vscode-notebook-cell:/c%3A/Users/Georgios/Documents/GitHub/AutoGIS2021/Exercise-1/Exercise-1-problem-1-2.ipynb#X15sZmlsZQ%3D%3D?line=1'>2</a>\u001b[0m \u001b[39mtry\u001b[39;00m:\n\u001b[0;32m      <a href='vscode-notebook-cell:/c%3A/Users/Georgios/Documents/GitHub/AutoGIS2021/Exercise-1/Exercise-1-problem-1-2.ipynb#X15sZmlsZQ%3D%3D?line=2'>3</a>\u001b[0m     \u001b[39m# Pass something else than a list\u001b[39;00m\n\u001b[1;32m----> <a href='vscode-notebook-cell:/c%3A/Users/Georgios/Documents/GitHub/AutoGIS2021/Exercise-1/Exercise-1-problem-1-2.ipynb#X15sZmlsZQ%3D%3D?line=3'>4</a>\u001b[0m     create_line_geometry(\u001b[39m\"\u001b[39;49m\u001b[39mGive me a line!\u001b[39;49m\u001b[39m\"\u001b[39;49m)\n\u001b[0;32m      <a href='vscode-notebook-cell:/c%3A/Users/Georgios/Documents/GitHub/AutoGIS2021/Exercise-1/Exercise-1-problem-1-2.ipynb#X15sZmlsZQ%3D%3D?line=4'>5</a>\u001b[0m \u001b[39mexcept\u001b[39;00m \u001b[39mAssertionError\u001b[39;00m \u001b[39mas\u001b[39;00m exception:\n\u001b[0;32m      <a href='vscode-notebook-cell:/c%3A/Users/Georgios/Documents/GitHub/AutoGIS2021/Exercise-1/Exercise-1-problem-1-2.ipynb#X15sZmlsZQ%3D%3D?line=5'>6</a>\u001b[0m     \u001b[39mprint\u001b[39m(\u001b[39mf\u001b[39m\u001b[39m\"\u001b[39m\u001b[39mThe function (correctly) detected an error. The error message was ‘\u001b[39m\u001b[39m{\u001b[39;00mexception\u001b[39m.\u001b[39margs[\u001b[39m0\u001b[39m]\u001b[39m}\u001b[39;00m\u001b[39m’\u001b[39m\u001b[39m\"\u001b[39m)\n",
            "\u001b[1;32mc:\\Users\\Georgios\\Documents\\GitHub\\AutoGIS2021\\Exercise-1\\Exercise-1-problem-1-2.ipynb Cell 13\u001b[0m in \u001b[0;36m3\n\u001b[0;32m      <a href='vscode-notebook-cell:/c%3A/Users/Georgios/Documents/GitHub/AutoGIS2021/Exercise-1/Exercise-1-problem-1-2.ipynb#X15sZmlsZQ%3D%3D?line=0'>1</a>\u001b[0m \u001b[39mdef\u001b[39;00m \u001b[39mcreate_line_geometry\u001b[39m(points):\n\u001b[0;32m      <a href='vscode-notebook-cell:/c%3A/Users/Georgios/Documents/GitHub/AutoGIS2021/Exercise-1/Exercise-1-problem-1-2.ipynb#X15sZmlsZQ%3D%3D?line=1'>2</a>\u001b[0m     \u001b[39mif\u001b[39;00m \u001b[39mnot\u001b[39;00m \u001b[39mtype\u001b[39m(points) \u001b[39mis\u001b[39;00m \u001b[39mlist\u001b[39m:\n\u001b[1;32m----> <a href='vscode-notebook-cell:/c%3A/Users/Georgios/Documents/GitHub/AutoGIS2021/Exercise-1/Exercise-1-problem-1-2.ipynb#X15sZmlsZQ%3D%3D?line=2'>3</a>\u001b[0m         \u001b[39mraise\u001b[39;00m \u001b[39mException\u001b[39;00m(\u001b[39m\"\u001b[39m\u001b[39mInput should be a list\u001b[39m\u001b[39m\"\u001b[39m)\n\u001b[0;32m      <a href='vscode-notebook-cell:/c%3A/Users/Georgios/Documents/GitHub/AutoGIS2021/Exercise-1/Exercise-1-problem-1-2.ipynb#X15sZmlsZQ%3D%3D?line=3'>4</a>\u001b[0m     \u001b[39massert\u001b[39;00m \u001b[39mlen\u001b[39m(points)\u001b[39m>\u001b[39m\u001b[39m=\u001b[39m\u001b[39m2\u001b[39m, \u001b[39m\"\u001b[39m\u001b[39mAt minimum two points are required for a LineString\u001b[39m\u001b[39m\"\u001b[39m\n\u001b[0;32m      <a href='vscode-notebook-cell:/c%3A/Users/Georgios/Documents/GitHub/AutoGIS2021/Exercise-1/Exercise-1-problem-1-2.ipynb#X15sZmlsZQ%3D%3D?line=4'>5</a>\u001b[0m     \u001b[39massert\u001b[39;00m \u001b[39mall\u001b[39m(\u001b[39misinstance\u001b[39m(x,shapely\u001b[39m.\u001b[39mgeometry\u001b[39m.\u001b[39mPoint) \u001b[39mfor\u001b[39;00m x \u001b[39min\u001b[39;00m points), \u001b[39m\"\u001b[39m\u001b[39mAll values must be of type shapely geometry points\u001b[39m\u001b[39m\"\u001b[39m\n",
            "\u001b[1;31mException\u001b[0m: Input should be a list"
          ]
        }
      ],
      "source": [
        "# NON-EDITABLE CODE CELL FOR TESTING YOUR SOLUTION\n",
        "try:\n",
        "    # Pass something else than a list\n",
        "    create_line_geometry(\"Give me a line!\")\n",
        "except AssertionError as exception:\n",
        "    print(f\"The function (correctly) detected an error. The error message was ‘{exception.args[0]}’\")\n",
        "except Exception as exception:\n",
        "    raise exception"
      ]
    },
    {
      "cell_type": "markdown",
      "metadata": {
        "deletable": false,
        "editable": false,
        "jp-MarkdownHeadingCollapsed": true,
        "tags": []
      },
      "source": [
        "\n",
        "----\n",
        "\n",
        "#### (1c)\n",
        "\n",
        "Create a function **`create_polygon_geometry()`** that accepts one parameter `coordinates`. `coordinates` should be *a list of\n",
        "coordinate tuples*. The function should create and return a `shapely.geometry.Polygon` object based on these coordinates.  \n",
        "\n",
        "Again, use `assert` statements to ensure the input arguments are valid:\n",
        "\n",
        "  - first check that the input is a **list**. If something else than a list is\n",
        "    passed, raise the following error: \"Input should be a list\".\n",
        "  - Check that the input list contains **at least three values**. Otherwise, raise the error: \"At\n",
        "    minimum three points are required for a polygon\"\n",
        "  - Check that all values in the input list are tuples of two values.\n",
        "    Otherwise, raise the error: \"All list values must be coordinate tuples\"\n",
        "  - *(optional)* check that all tuples’ values are instances of either `int` or `float`.\n",
        "\n",
        "*(Optional)* Write the function in a way that also allows the input to be a list of `shapely.geometry.Point`s.\n",
        "If `coords` contains `shapely.geometry.Point` objects, return a polygon based on these points.\n",
        "If the input is neither a list of tuples, nor a list of Points, raise an appropriate error message.\n",
        "  "
      ]
    },
    {
      "cell_type": "code",
      "execution_count": 32,
      "metadata": {},
      "outputs": [],
      "source": [
        "def create_polygon_geometry(coordinates):\n",
        "    \"\"\"creates a polygon geometry\"\"\"\n",
        "    if not type(coordinates) is list:\n",
        "        raise Exception(\"Input should be a list\")\n",
        "    assert len(coordinates)>=3, \"At minimum two points are required for a polygon\"\n",
        "    assert all(isinstance(x,(tuple,shapely.geometry.Point)) for x in coordinates), \"All values must be of type shapely geometry points\"\n",
        "    return shapely.geometry.Polygon(coordinates)\n"
      ]
    },
    {
      "cell_type": "markdown",
      "metadata": {
        "deletable": false,
        "editable": false
      },
      "source": [
        "Demonstrate how to use the function. \n",
        "For example, create a Polygon `polygon1` with three points: `(45.2, 22.34)`, `(100.22, -3.20)`, `(70.0, 10.20)`."
      ]
    },
    {
      "cell_type": "code",
      "execution_count": 8,
      "metadata": {},
      "outputs": [],
      "source": [
        "# ADD YOUR OWN CODE HERE\n",
        "polygon1=create_polygon_geometry([(45.2,22.34),(100.22,-3.2),(70.0,10.2)])\n"
      ]
    },
    {
      "cell_type": "markdown",
      "metadata": {
        "deletable": false,
        "editable": false
      },
      "source": [
        "Use the following code cell to test your solution:"
      ]
    },
    {
      "cell_type": "code",
      "execution_count": 9,
      "metadata": {
        "deletable": false,
        "editable": false
      },
      "outputs": [
        {
          "name": "stdout",
          "output_type": "stream",
          "text": [
            "POLYGON ((45.2 22.34, 100.22 -3.2, 70 10.2, 45.2 22.34))\n",
            "Polygon\n"
          ]
        }
      ],
      "source": [
        "# NON-EDITABLE CODE CELL FOR TESTING YOUR SOLUTION\n",
        "print(polygon1)\n",
        "print(polygon1.geom_type)"
      ]
    },
    {
      "cell_type": "markdown",
      "metadata": {
        "deletable": false,
        "editable": false
      },
      "source": [
        "Check if your function checks the length of the input correctly by running this code cell:"
      ]
    },
    {
      "cell_type": "code",
      "execution_count": 10,
      "metadata": {
        "deletable": false,
        "editable": false
      },
      "outputs": [
        {
          "ename": "Exception",
          "evalue": "Input should be a list",
          "output_type": "error",
          "traceback": [
            "\u001b[1;31m---------------------------------------------------------------------------\u001b[0m",
            "\u001b[1;31mException\u001b[0m                                 Traceback (most recent call last)",
            "\u001b[1;32mc:\\Users\\Georgios\\Documents\\GitHub\\AutoGIS2021\\Exercise-1\\Exercise-1-problem-1-2.ipynb Cell 21\u001b[0m in \u001b[0;36m8\n\u001b[0;32m      <a href='vscode-notebook-cell:/c%3A/Users/Georgios/Documents/GitHub/AutoGIS2021/Exercise-1/Exercise-1-problem-1-2.ipynb#X26sZmlsZQ%3D%3D?line=5'>6</a>\u001b[0m     \u001b[39mprint\u001b[39m(\u001b[39mf\u001b[39m\u001b[39m\"\u001b[39m\u001b[39mThe function (correctly) detected an error. The error message was ‘\u001b[39m\u001b[39m{\u001b[39;00mexception\u001b[39m.\u001b[39margs[\u001b[39m0\u001b[39m]\u001b[39m}\u001b[39;00m\u001b[39m’\u001b[39m\u001b[39m\"\u001b[39m)\n\u001b[0;32m      <a href='vscode-notebook-cell:/c%3A/Users/Georgios/Documents/GitHub/AutoGIS2021/Exercise-1/Exercise-1-problem-1-2.ipynb#X26sZmlsZQ%3D%3D?line=6'>7</a>\u001b[0m \u001b[39mexcept\u001b[39;00m \u001b[39mException\u001b[39;00m \u001b[39mas\u001b[39;00m exception:\n\u001b[1;32m----> <a href='vscode-notebook-cell:/c%3A/Users/Georgios/Documents/GitHub/AutoGIS2021/Exercise-1/Exercise-1-problem-1-2.ipynb#X26sZmlsZQ%3D%3D?line=7'>8</a>\u001b[0m     \u001b[39mraise\u001b[39;00m exception\n",
            "\u001b[1;32mc:\\Users\\Georgios\\Documents\\GitHub\\AutoGIS2021\\Exercise-1\\Exercise-1-problem-1-2.ipynb Cell 21\u001b[0m in \u001b[0;36m4\n\u001b[0;32m      <a href='vscode-notebook-cell:/c%3A/Users/Georgios/Documents/GitHub/AutoGIS2021/Exercise-1/Exercise-1-problem-1-2.ipynb#X26sZmlsZQ%3D%3D?line=0'>1</a>\u001b[0m \u001b[39m# NON-EDITABLE CODE CELL FOR TESTING YOUR SOLUTION\u001b[39;00m\n\u001b[0;32m      <a href='vscode-notebook-cell:/c%3A/Users/Georgios/Documents/GitHub/AutoGIS2021/Exercise-1/Exercise-1-problem-1-2.ipynb#X26sZmlsZQ%3D%3D?line=1'>2</a>\u001b[0m \u001b[39mtry\u001b[39;00m:\n\u001b[0;32m      <a href='vscode-notebook-cell:/c%3A/Users/Georgios/Documents/GitHub/AutoGIS2021/Exercise-1/Exercise-1-problem-1-2.ipynb#X26sZmlsZQ%3D%3D?line=2'>3</a>\u001b[0m     \u001b[39m# Pass something else than a list\u001b[39;00m\n\u001b[1;32m----> <a href='vscode-notebook-cell:/c%3A/Users/Georgios/Documents/GitHub/AutoGIS2021/Exercise-1/Exercise-1-problem-1-2.ipynb#X26sZmlsZQ%3D%3D?line=3'>4</a>\u001b[0m     create_polygon_geometry(\u001b[39m\"\u001b[39;49m\u001b[39mGive me a polygon\u001b[39;49m\u001b[39m\"\u001b[39;49m)\n\u001b[0;32m      <a href='vscode-notebook-cell:/c%3A/Users/Georgios/Documents/GitHub/AutoGIS2021/Exercise-1/Exercise-1-problem-1-2.ipynb#X26sZmlsZQ%3D%3D?line=4'>5</a>\u001b[0m \u001b[39mexcept\u001b[39;00m \u001b[39mAssertionError\u001b[39;00m \u001b[39mas\u001b[39;00m exception:\n\u001b[0;32m      <a href='vscode-notebook-cell:/c%3A/Users/Georgios/Documents/GitHub/AutoGIS2021/Exercise-1/Exercise-1-problem-1-2.ipynb#X26sZmlsZQ%3D%3D?line=5'>6</a>\u001b[0m     \u001b[39mprint\u001b[39m(\u001b[39mf\u001b[39m\u001b[39m\"\u001b[39m\u001b[39mThe function (correctly) detected an error. The error message was ‘\u001b[39m\u001b[39m{\u001b[39;00mexception\u001b[39m.\u001b[39margs[\u001b[39m0\u001b[39m]\u001b[39m}\u001b[39;00m\u001b[39m’\u001b[39m\u001b[39m\"\u001b[39m)\n",
            "\u001b[1;32mc:\\Users\\Georgios\\Documents\\GitHub\\AutoGIS2021\\Exercise-1\\Exercise-1-problem-1-2.ipynb Cell 21\u001b[0m in \u001b[0;36m3\n\u001b[0;32m      <a href='vscode-notebook-cell:/c%3A/Users/Georgios/Documents/GitHub/AutoGIS2021/Exercise-1/Exercise-1-problem-1-2.ipynb#X26sZmlsZQ%3D%3D?line=0'>1</a>\u001b[0m \u001b[39mdef\u001b[39;00m \u001b[39mcreate_polygon_geometry\u001b[39m(coordinates):\n\u001b[0;32m      <a href='vscode-notebook-cell:/c%3A/Users/Georgios/Documents/GitHub/AutoGIS2021/Exercise-1/Exercise-1-problem-1-2.ipynb#X26sZmlsZQ%3D%3D?line=1'>2</a>\u001b[0m     \u001b[39mif\u001b[39;00m \u001b[39mnot\u001b[39;00m \u001b[39mtype\u001b[39m(coordinates) \u001b[39mis\u001b[39;00m \u001b[39mlist\u001b[39m:\n\u001b[1;32m----> <a href='vscode-notebook-cell:/c%3A/Users/Georgios/Documents/GitHub/AutoGIS2021/Exercise-1/Exercise-1-problem-1-2.ipynb#X26sZmlsZQ%3D%3D?line=2'>3</a>\u001b[0m         \u001b[39mraise\u001b[39;00m \u001b[39mException\u001b[39;00m(\u001b[39m\"\u001b[39m\u001b[39mInput should be a list\u001b[39m\u001b[39m\"\u001b[39m)\n\u001b[0;32m      <a href='vscode-notebook-cell:/c%3A/Users/Georgios/Documents/GitHub/AutoGIS2021/Exercise-1/Exercise-1-problem-1-2.ipynb#X26sZmlsZQ%3D%3D?line=3'>4</a>\u001b[0m     \u001b[39massert\u001b[39;00m \u001b[39mlen\u001b[39m(coordinates)\u001b[39m>\u001b[39m\u001b[39m=\u001b[39m\u001b[39m3\u001b[39m, \u001b[39m\"\u001b[39m\u001b[39mAt minimum two points are required for a polygon\u001b[39m\u001b[39m\"\u001b[39m\n\u001b[0;32m      <a href='vscode-notebook-cell:/c%3A/Users/Georgios/Documents/GitHub/AutoGIS2021/Exercise-1/Exercise-1-problem-1-2.ipynb#X26sZmlsZQ%3D%3D?line=4'>5</a>\u001b[0m     \u001b[39massert\u001b[39;00m \u001b[39mall\u001b[39m(\u001b[39misinstance\u001b[39m(x,(\u001b[39mtuple\u001b[39m,shapely\u001b[39m.\u001b[39mgeometry\u001b[39m.\u001b[39mPoint)) \u001b[39mfor\u001b[39;00m x \u001b[39min\u001b[39;00m coordinates), \u001b[39m\"\u001b[39m\u001b[39mAll values must be of type shapely geometry points\u001b[39m\u001b[39m\"\u001b[39m\n",
            "\u001b[1;31mException\u001b[0m: Input should be a list"
          ]
        }
      ],
      "source": [
        "# NON-EDITABLE CODE CELL FOR TESTING YOUR SOLUTION\n",
        "try:\n",
        "    # Pass something else than a list\n",
        "    create_polygon_geometry(\"Give me a polygon\")\n",
        "except AssertionError as exception:\n",
        "    print(f\"The function (correctly) detected an error. The error message was ‘{exception.args[0]}’\")\n",
        "except Exception as exception:\n",
        "    raise exception"
      ]
    },
    {
      "cell_type": "markdown",
      "metadata": {
        "deletable": false,
        "editable": false
      },
      "source": [
        "\n",
        "----\n",
        "\n",
        "#### Done!\n",
        "\n",
        "That’s it. Now you are ready to continue with Problem 2. \n",
        "\n",
        "Remember to commit your code using `git` after each major code change (for example, after solving each problem). Remember also to upload (push) your files to your **own** personal GitHub repository for Exercise-1.\n"
      ]
    },
    {
      "cell_type": "markdown",
      "metadata": {
        "deletable": false,
        "editable": false
      },
      "source": [
        "## Problem 2: Attributes of geometries (*5 points*)\n",
        "\n",
        "In this problem, we look at the geometric properties of geometries, and how to access them."
      ]
    },
    {
      "cell_type": "markdown",
      "metadata": {
        "deletable": false,
        "editable": false,
        "jp-MarkdownHeadingCollapsed": true,
        "tags": []
      },
      "source": [
        "\n",
        "----\n",
        "\n",
        "#### (2a)\n",
        "\n",
        "Create a function called **`get_centroid()`** that accepts one parameter, `geom`. \n",
        "The function should take any kind of Shapely’s geometry objects (any instance of `shapely.geometry.base.BaseGeometry`)\n",
        "as an input, and return the centroid of that geometry. \n",
        "\n",
        "Make sure to validate the function’s input arguments using `assert` statements:\n",
        "\n",
        "  - check that the input is a `shapely.geometry.base.BaseGeometry` or one of its child classes.\n",
        "    Otherwise, raise the error \"Input must be a `shapely` geometry\".\n"
      ]
    },
    {
      "cell_type": "code",
      "execution_count": 33,
      "metadata": {},
      "outputs": [],
      "source": [
        "# ADD YOUR OWN CODE HERE\n",
        "def get_centroid(geom):\n",
        "    \"\"\"calculates centroid of a geometry\"\"\"\n",
        "    if not isinstance(geom,shapely.geometry.base.BaseGeometry):\n",
        "        raise Exception(\"Input should be a shapely geometry\")\n",
        "    return geom.centroid"
      ]
    },
    {
      "cell_type": "markdown",
      "metadata": {
        "deletable": false,
        "editable": false
      },
      "source": [
        "Test and demonstrate the usage of the function. You can, for example, create shapely objects using the functions you created in problem 1 and print out information about their centroids:\n"
      ]
    },
    {
      "cell_type": "code",
      "execution_count": null,
      "metadata": {},
      "outputs": [],
      "source": [
        "# ADD YOUR OWN CODE HERE\n"
      ]
    },
    {
      "cell_type": "code",
      "execution_count": 12,
      "metadata": {
        "deletable": false,
        "editable": false
      },
      "outputs": [
        {
          "name": "stdout",
          "output_type": "stream",
          "text": [
            "POINT (71.80666666666667 9.780000000000001)\n",
            "POINT (71.80666666666667 9.780000000000001)\n"
          ]
        }
      ],
      "source": [
        "# NON-EDITABLE CODE CELL FOR TESTING YOUR SOLUTION\n",
        "centroid = get_centroid(polygon1)\n",
        "print(centroid)\n",
        "print(polygon1.centroid)"
      ]
    },
    {
      "cell_type": "markdown",
      "metadata": {
        "deletable": false,
        "editable": false
      },
      "source": [
        "Check that the assertion error works correctly:"
      ]
    },
    {
      "cell_type": "code",
      "execution_count": 13,
      "metadata": {
        "deletable": false,
        "editable": false
      },
      "outputs": [
        {
          "ename": "Exception",
          "evalue": "Input should be a shapely geometry",
          "output_type": "error",
          "traceback": [
            "\u001b[1;31m---------------------------------------------------------------------------\u001b[0m",
            "\u001b[1;31mException\u001b[0m                                 Traceback (most recent call last)",
            "\u001b[1;32mc:\\Users\\Georgios\\Documents\\GitHub\\AutoGIS2021\\Exercise-1\\Exercise-1-problem-1-2.ipynb Cell 30\u001b[0m in \u001b[0;36m8\n\u001b[0;32m      <a href='vscode-notebook-cell:/c%3A/Users/Georgios/Documents/GitHub/AutoGIS2021/Exercise-1/Exercise-1-problem-1-2.ipynb#X41sZmlsZQ%3D%3D?line=5'>6</a>\u001b[0m     \u001b[39mprint\u001b[39m(\u001b[39mf\u001b[39m\u001b[39m\"\u001b[39m\u001b[39mThe function (correctly) detected an error. The error message was ‘\u001b[39m\u001b[39m{\u001b[39;00mexception\u001b[39m.\u001b[39margs[\u001b[39m0\u001b[39m]\u001b[39m}\u001b[39;00m\u001b[39m’\u001b[39m\u001b[39m\"\u001b[39m)\n\u001b[0;32m      <a href='vscode-notebook-cell:/c%3A/Users/Georgios/Documents/GitHub/AutoGIS2021/Exercise-1/Exercise-1-problem-1-2.ipynb#X41sZmlsZQ%3D%3D?line=6'>7</a>\u001b[0m \u001b[39mexcept\u001b[39;00m \u001b[39mException\u001b[39;00m \u001b[39mas\u001b[39;00m exception:\n\u001b[1;32m----> <a href='vscode-notebook-cell:/c%3A/Users/Georgios/Documents/GitHub/AutoGIS2021/Exercise-1/Exercise-1-problem-1-2.ipynb#X41sZmlsZQ%3D%3D?line=7'>8</a>\u001b[0m     \u001b[39mraise\u001b[39;00m exception\n",
            "\u001b[1;32mc:\\Users\\Georgios\\Documents\\GitHub\\AutoGIS2021\\Exercise-1\\Exercise-1-problem-1-2.ipynb Cell 30\u001b[0m in \u001b[0;36m4\n\u001b[0;32m      <a href='vscode-notebook-cell:/c%3A/Users/Georgios/Documents/GitHub/AutoGIS2021/Exercise-1/Exercise-1-problem-1-2.ipynb#X41sZmlsZQ%3D%3D?line=0'>1</a>\u001b[0m \u001b[39m# NON-EDITABLE CODE CELL FOR TESTING YOUR SOLUTION\u001b[39;00m\n\u001b[0;32m      <a href='vscode-notebook-cell:/c%3A/Users/Georgios/Documents/GitHub/AutoGIS2021/Exercise-1/Exercise-1-problem-1-2.ipynb#X41sZmlsZQ%3D%3D?line=1'>2</a>\u001b[0m \u001b[39mtry\u001b[39;00m:\n\u001b[0;32m      <a href='vscode-notebook-cell:/c%3A/Users/Georgios/Documents/GitHub/AutoGIS2021/Exercise-1/Exercise-1-problem-1-2.ipynb#X41sZmlsZQ%3D%3D?line=2'>3</a>\u001b[0m     \u001b[39m# Pass something else than a Shapely geometry\u001b[39;00m\n\u001b[1;32m----> <a href='vscode-notebook-cell:/c%3A/Users/Georgios/Documents/GitHub/AutoGIS2021/Exercise-1/Exercise-1-problem-1-2.ipynb#X41sZmlsZQ%3D%3D?line=3'>4</a>\u001b[0m     get_centroid(\u001b[39m\"\u001b[39;49m\u001b[39mGive me a centroid!\u001b[39;49m\u001b[39m\"\u001b[39;49m)\n\u001b[0;32m      <a href='vscode-notebook-cell:/c%3A/Users/Georgios/Documents/GitHub/AutoGIS2021/Exercise-1/Exercise-1-problem-1-2.ipynb#X41sZmlsZQ%3D%3D?line=4'>5</a>\u001b[0m \u001b[39mexcept\u001b[39;00m \u001b[39mAssertionError\u001b[39;00m \u001b[39mas\u001b[39;00m exception:\n\u001b[0;32m      <a href='vscode-notebook-cell:/c%3A/Users/Georgios/Documents/GitHub/AutoGIS2021/Exercise-1/Exercise-1-problem-1-2.ipynb#X41sZmlsZQ%3D%3D?line=5'>6</a>\u001b[0m     \u001b[39mprint\u001b[39m(\u001b[39mf\u001b[39m\u001b[39m\"\u001b[39m\u001b[39mThe function (correctly) detected an error. The error message was ‘\u001b[39m\u001b[39m{\u001b[39;00mexception\u001b[39m.\u001b[39margs[\u001b[39m0\u001b[39m]\u001b[39m}\u001b[39;00m\u001b[39m’\u001b[39m\u001b[39m\"\u001b[39m)\n",
            "\u001b[1;32mc:\\Users\\Georgios\\Documents\\GitHub\\AutoGIS2021\\Exercise-1\\Exercise-1-problem-1-2.ipynb Cell 30\u001b[0m in \u001b[0;36m4\n\u001b[0;32m      <a href='vscode-notebook-cell:/c%3A/Users/Georgios/Documents/GitHub/AutoGIS2021/Exercise-1/Exercise-1-problem-1-2.ipynb#X41sZmlsZQ%3D%3D?line=1'>2</a>\u001b[0m \u001b[39mdef\u001b[39;00m \u001b[39mget_centroid\u001b[39m(geom):\n\u001b[0;32m      <a href='vscode-notebook-cell:/c%3A/Users/Georgios/Documents/GitHub/AutoGIS2021/Exercise-1/Exercise-1-problem-1-2.ipynb#X41sZmlsZQ%3D%3D?line=2'>3</a>\u001b[0m     \u001b[39mif\u001b[39;00m \u001b[39mnot\u001b[39;00m \u001b[39misinstance\u001b[39m(geom,shapely\u001b[39m.\u001b[39mgeometry\u001b[39m.\u001b[39mbase\u001b[39m.\u001b[39mBaseGeometry):\n\u001b[1;32m----> <a href='vscode-notebook-cell:/c%3A/Users/Georgios/Documents/GitHub/AutoGIS2021/Exercise-1/Exercise-1-problem-1-2.ipynb#X41sZmlsZQ%3D%3D?line=3'>4</a>\u001b[0m         \u001b[39mraise\u001b[39;00m \u001b[39mException\u001b[39;00m(\u001b[39m\"\u001b[39m\u001b[39mInput should be a shapely geometry\u001b[39m\u001b[39m\"\u001b[39m)\n\u001b[0;32m      <a href='vscode-notebook-cell:/c%3A/Users/Georgios/Documents/GitHub/AutoGIS2021/Exercise-1/Exercise-1-problem-1-2.ipynb#X41sZmlsZQ%3D%3D?line=4'>5</a>\u001b[0m     \u001b[39mreturn\u001b[39;00m geom\u001b[39m.\u001b[39mcentroid\n",
            "\u001b[1;31mException\u001b[0m: Input should be a shapely geometry"
          ]
        }
      ],
      "source": [
        "# NON-EDITABLE CODE CELL FOR TESTING YOUR SOLUTION\n",
        "try:\n",
        "    # Pass something else than a Shapely geometry\n",
        "    get_centroid(\"Give me a centroid!\")\n",
        "except AssertionError as exception:\n",
        "    print(f\"The function (correctly) detected an error. The error message was ‘{exception.args[0]}’\")\n",
        "except Exception as exception:\n",
        "    raise exception"
      ]
    },
    {
      "cell_type": "markdown",
      "metadata": {
        "deletable": false,
        "editable": false,
        "jp-MarkdownHeadingCollapsed": true,
        "tags": []
      },
      "source": [
        "\n",
        "----\n",
        "\n",
        "#### (2b)\n",
        "\n",
        "Create a function **`get_area()`** accepting one parameter `polygon`. \n",
        "\n",
        "The function should accept a `shapely.geometry.Polygon` and return its area. \n",
        "Again, use `assert` to make sure the input values are valid, in particular, check that:\n",
        "- the input is a `shapely.geometry.Polygon`. If the argument is anything else, \n",
        "  raise an error: \"Input should be a `shapely.geometry.Polygon`\"."
      ]
    },
    {
      "cell_type": "code",
      "execution_count": 34,
      "metadata": {},
      "outputs": [],
      "source": [
        "def get_area(polygon):\n",
        "    \"\"\"calculates area of a geometry\"\"\"\n",
        "    assert isinstance(polygon,shapely.geometry.Polygon), \"All values must be of type shapely geometry polygon\"\n",
        "    return polygon.area\n",
        "\n",
        "    \n",
        "    \n"
      ]
    },
    {
      "cell_type": "markdown",
      "metadata": {
        "deletable": false,
        "editable": false
      },
      "source": [
        "Test and demonstrate how to use the function:"
      ]
    },
    {
      "cell_type": "code",
      "execution_count": null,
      "metadata": {},
      "outputs": [],
      "source": [
        "# ADD YOUR OWN CODE HERE\n"
      ]
    },
    {
      "cell_type": "code",
      "execution_count": 24,
      "metadata": {
        "deletable": false,
        "editable": false
      },
      "outputs": [
        {
          "name": "stdout",
          "output_type": "stream",
          "text": [
            "17.28\n"
          ]
        }
      ],
      "source": [
        "# NON-EDITABLE CODE CELL FOR TESTING YOUR SOLUTION\n",
        "area = get_area(polygon1)\n",
        "print(round(area, 2))"
      ]
    },
    {
      "cell_type": "markdown",
      "metadata": {
        "deletable": false,
        "editable": false
      },
      "source": [
        "Check that the assertion works:"
      ]
    },
    {
      "cell_type": "code",
      "execution_count": 25,
      "metadata": {
        "deletable": false,
        "editable": false
      },
      "outputs": [
        {
          "name": "stdout",
          "output_type": "stream",
          "text": [
            "The function (correctly) detected an error. The error message was ‘All values must be of type shapely geometry points’\n"
          ]
        }
      ],
      "source": [
        "# NON-EDITABLE CODE CELL FOR TESTING YOUR SOLUTION\n",
        "try:\n",
        "    # Pass something else than a Shapely geometry\n",
        "    get_area(\"Give me an area!\")\n",
        "except AssertionError as exception:\n",
        "    print(f\"The function (correctly) detected an error. The error message was ‘{exception.args[0]}’\")\n",
        "except Exception as exception:\n",
        "    raise exception"
      ]
    },
    {
      "cell_type": "markdown",
      "metadata": {
        "deletable": false,
        "editable": false,
        "jp-MarkdownHeadingCollapsed": true,
        "tags": []
      },
      "source": [
        "\n",
        "----\n",
        "\n",
        "#### (2c)\n",
        "\n",
        "Create a function **`get_length()`** accepting one parameter, `geometry`. \n",
        "\n",
        "The function should accept either a `shapely.geometry.LineString` or a `shapely.geometry.Polygon` as input.\n",
        "Check the type of the input and return the length of the line if input is a LineString and length of the\n",
        "exterior ring if the input is a Polygon. \n",
        "\n",
        "If something else is passed to the function, raise an error \"‘geometry’ should be either a LineString or a Polygon\". Use `assert` or (advanced, optional) [raise a `ValueError` exception](https://docs.python.org/3/tutorial/errors.html#handling-exceptions).\n"
      ]
    },
    {
      "cell_type": "code",
      "execution_count": 35,
      "metadata": {},
      "outputs": [],
      "source": [
        "def get_length(geometry):\n",
        "    \"\"\"calculates length of a geometry\"\"\"\n",
        "    assert isinstance(geometry,(shapely.geometry.Polygon,shapely.geometry.LineString)), \"All values must be of type shapely geometry line or polygon\"\n",
        "    return geometry.length\n"
      ]
    },
    {
      "cell_type": "markdown",
      "metadata": {
        "deletable": false,
        "editable": false
      },
      "source": [
        "Test and demonstrate the usage of the function:"
      ]
    },
    {
      "cell_type": "code",
      "execution_count": null,
      "metadata": {},
      "outputs": [],
      "source": [
        "# ADD YOUR OWN CODE HERE\n"
      ]
    },
    {
      "cell_type": "code",
      "execution_count": 29,
      "metadata": {
        "deletable": false,
        "editable": false
      },
      "outputs": [
        {
          "name": "stdout",
          "output_type": "stream",
          "text": [
            "Line length: 60.66\n",
            "Polygon exterior length: 121.33\n",
            "The function (correctly) detected an error. The error message was ‘All values must be of type shapely geometry line or polygon’\n"
          ]
        }
      ],
      "source": [
        "# NON-EDITABLE CODE CELL FOR TESTING YOUR SOLUTION\n",
        "line_length = get_length(line1)\n",
        "print(\"Line length:\", round(line_length,2))\n",
        "\n",
        "poly_exterior_length = get_length(polygon1)\n",
        "print(\"Polygon exterior length:\", round(poly_exterior_length,2))\n",
        "\n",
        "try:\n",
        "    # Pass something else than a Shapely LineString or Polygon\n",
        "    get_length(shapely.geometry.Point(1,2))\n",
        "except (AssertionError, ValueError) as exception:\n",
        "    print(f\"The function (correctly) detected an error. The error message was ‘{exception.args[0]}’\")\n",
        "except Exception as exception:\n",
        "    raise exception"
      ]
    },
    {
      "cell_type": "markdown",
      "metadata": {
        "deletable": false,
        "editable": false,
        "jp-MarkdownHeadingCollapsed": true,
        "tags": []
      },
      "source": [
        "\n",
        "----\n",
        "\n",
        "## Docstrings\n",
        "\n",
        "Did you add a docstring to all the functions you defined? If not, add them now :) A short one-line docstring is enough in this exercise."
      ]
    },
    {
      "cell_type": "markdown",
      "metadata": {
        "deletable": false,
        "editable": false
      },
      "source": [
        "You can run the code cell below to check all the docstrings:"
      ]
    },
    {
      "cell_type": "code",
      "execution_count": 37,
      "metadata": {
        "deletable": false,
        "editable": false
      },
      "outputs": [
        {
          "name": "stdout",
          "output_type": "stream",
          "text": [
            "My functions:\n",
            "\n",
            "- create_point_geometry: creates a point geometry\n",
            "- create_line_geometry: creates a line geometry\n",
            "- create_polygon_geometry: creates a polygon geometry\n",
            "- get_centroid: calculates centroid of a geometry\n",
            "- get_area: calculates area of a geometry\n",
            "- get_length: calculates length of a geometry\n"
          ]
        }
      ],
      "source": [
        "# NON-EDITABLE CODE CELL FOR TESTING YOUR SOLUTION\n",
        "\n",
        "# List all functions we created\n",
        "functions = [\n",
        "    create_point_geometry,\n",
        "    create_line_geometry,\n",
        "    create_polygon_geometry,\n",
        "    get_centroid,\n",
        "    get_area,\n",
        "    get_length\n",
        "]\n",
        "\n",
        "print(\"My functions:\\n\")\n",
        "\n",
        "for function in functions:\n",
        "    # print function name and docstring:\n",
        "    print(\"-\", function.__name__ +\":\", function.__doc__)"
      ]
    },
    {
      "cell_type": "markdown",
      "metadata": {
        "deletable": false,
        "editable": false
      },
      "source": [
        "\n",
        "----\n",
        "\n",
        "Don’t forget to upload your code and edits to your **own** personal GitHub repository for Exercise-1.\n",
        "\n",
        "#### Done!\n",
        "\n",
        "That's it. Now you are ready to continue with Problem 3. "
      ]
    }
  ],
  "metadata": {
    "kernelspec": {
      "display_name": "Python 3.10.6 ('vscodeenv')",
      "language": "python",
      "name": "python3"
    },
    "language_info": {
      "codemirror_mode": {
        "name": "ipython",
        "version": 3
      },
      "file_extension": ".py",
      "mimetype": "text/x-python",
      "name": "python",
      "nbconvert_exporter": "python",
      "pygments_lexer": "ipython3",
      "version": "3.10.6"
    },
    "vscode": {
      "interpreter": {
        "hash": "85c4616fe4ea5db41b66f5e007a31d7f0c31a75245a34869083485d9d7cd01d5"
      }
    }
  },
  "nbformat": 4,
  "nbformat_minor": 4
}
